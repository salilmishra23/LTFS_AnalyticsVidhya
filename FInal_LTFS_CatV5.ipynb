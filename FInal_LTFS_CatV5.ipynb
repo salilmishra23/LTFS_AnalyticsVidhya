{
  "nbformat": 4,
  "nbformat_minor": 0,
  "metadata": {
    "colab": {
      "name": "FInal_LTFS_CatV5.ipynb",
      "version": "0.3.2",
      "provenance": [],
      "collapsed_sections": []
    },
    "kernelspec": {
      "name": "python3",
      "display_name": "Python 3"
    },
    "accelerator": "GPU"
  },
  "cells": [
    {
      "cell_type": "code",
      "metadata": {
        "id": "FCeNhtD_somn",
        "colab_type": "code",
        "colab": {}
      },
      "source": [
        "import pandas as pd\n",
        "import numpy as np\n",
        "import seaborn as sns\n",
        "import matplotlib.pyplot as plt\n",
        "import gc\n",
        "\n",
        "from catboost import CatBoostClassifier\n",
        "\n",
        "from datetime import datetime\n",
        "\n",
        "import warnings\n",
        "warnings.filterwarnings('ignore')\n",
        "\n",
        "from sklearn.model_selection import cross_val_score\n",
        "from sklearn.metrics import make_scorer, roc_auc_score\n",
        "from sklearn.model_selection import StratifiedKFold, train_test_split, GridSearchCV"
      ],
      "execution_count": 0,
      "outputs": []
    },
    {
      "cell_type": "code",
      "metadata": {
        "id": "-GfqUVZKswCk",
        "colab_type": "code",
        "colab": {}
      },
      "source": [
        "def write_submission(predictions, file_name):\n",
        "  sub = pd.read_csv('data/sample_submission_24jSKY6.csv')\n",
        "  sub.loan_default = predictions\n",
        "  sub.to_csv(file_name, index=False)"
      ],
      "execution_count": 0,
      "outputs": []
    },
    {
      "cell_type": "code",
      "metadata": {
        "id": "cl1rlvb_zMnM",
        "colab_type": "code",
        "colab": {}
      },
      "source": [
        "train_df = pd.read_csv('data/LTFS_train_processed.csv')\n",
        "test_df = pd.read_csv('data/LTFS_test_processed.csv')"
      ],
      "execution_count": 0,
      "outputs": []
    },
    {
      "cell_type": "code",
      "metadata": {
        "id": "_zYI7_Qb1EU_",
        "colab_type": "code",
        "colab": {}
      },
      "source": [
        "y = train_df.loan_default\n",
        "train_df.drop('loan_default', axis=1, inplace=True)"
      ],
      "execution_count": 0,
      "outputs": []
    },
    {
      "cell_type": "markdown",
      "metadata": {
        "id": "CENMBLDn1SCo",
        "colab_type": "text"
      },
      "source": [
        "## Adding features"
      ]
    },
    {
      "cell_type": "code",
      "metadata": {
        "id": "mmZvhnKB1U8f",
        "colab_type": "code",
        "colab": {}
      },
      "source": [
        "cns_perform_dict = train_df['PERFORM_CNS.SCORE.DESCRIPTION'].value_counts().to_dict()\n",
        "for i, (key, _) in enumerate(cns_perform_dict.items()):\n",
        "  cns_perform_dict[key] = i\n",
        "  \n",
        "no_history_not_scored = [0, 19, 15, 16, 14, 18, 12]\n",
        "low_risk = [2, 4, 1, 3, 9, 6, 11]\n",
        "high_risk = [13, 7, 17, 5, 8, 10]\n",
        "\n",
        "train_df['PERFORM_CNS.SCORE.DESCRIPTION'] = train_df['PERFORM_CNS.SCORE.DESCRIPTION'].replace(cns_perform_dict)\n",
        "test_df['PERFORM_CNS.SCORE.DESCRIPTION'] = test_df['PERFORM_CNS.SCORE.DESCRIPTION'].replace(cns_perform_dict)\n",
        "\n",
        "train_df['Score_des_no_his_not_score'] = train_df['PERFORM_CNS.SCORE.DESCRIPTION'].isin(no_history_not_scored).astype(int)\n",
        "train_df['Score_des_low_risk'] = train_df['PERFORM_CNS.SCORE.DESCRIPTION'].isin(low_risk).astype(int)\n",
        "train_df['Score_des_high_risk'] = train_df['PERFORM_CNS.SCORE.DESCRIPTION'].isin(high_risk).astype(int)\n",
        "\n",
        "test_df['Score_des_no_his_not_score'] = test_df['PERFORM_CNS.SCORE.DESCRIPTION'].isin(no_history_not_scored).astype(int)\n",
        "test_df['Score_des_low_risk'] = test_df['PERFORM_CNS.SCORE.DESCRIPTION'].isin(low_risk).astype(int)\n",
        "test_df['Score_des_high_risk'] = test_df['PERFORM_CNS.SCORE.DESCRIPTION'].isin(high_risk).astype(int)"
      ],
      "execution_count": 0,
      "outputs": []
    },
    {
      "cell_type": "code",
      "metadata": {
        "id": "RY2aDae81iaj",
        "colab_type": "code",
        "colab": {}
      },
      "source": [
        "train_df['AssetCost2Disbursed'] = train_df.asset_cost/train_df.disbursed_amount\n",
        "test_df['AssetCost2Disbursed'] = test_df.asset_cost/test_df.disbursed_amount"
      ],
      "execution_count": 0,
      "outputs": []
    },
    {
      "cell_type": "code",
      "metadata": {
        "id": "dUQ9oNDQtElb",
        "colab_type": "code",
        "colab": {}
      },
      "source": [
        "train_df['dif_pri_san_dis'] = train_df['PRI.SANCTIONED.AMOUNT'] - train_df['PRI.DISBURSED.AMOUNT']\n",
        "test_df['dif_pri_san_dis'] = test_df['PRI.SANCTIONED.AMOUNT'] - test_df['PRI.DISBURSED.AMOUNT']"
      ],
      "execution_count": 0,
      "outputs": []
    },
    {
      "cell_type": "code",
      "metadata": {
        "id": "CEOzfIznUgwJ",
        "colab_type": "code",
        "colab": {}
      },
      "source": [
        "train_df['ltv_log'] = np.log1p(train_df['ltv'])\n",
        "test_df['ltv_log'] = np.log1p(test_df['ltv'])"
      ],
      "execution_count": 0,
      "outputs": []
    },
    {
      "cell_type": "code",
      "metadata": {
        "id": "_uWA9nRifadT",
        "colab_type": "code",
        "colab": {}
      },
      "source": [
        "train_df['diff_cur_bal_disb_amt'] = (train_df['PRI.CURRENT.BALANCE'] + train_df['SEC.CURRENT.BALANCE']) - (train_df['PRI.DISBURSED.AMOUNT'] + train_df['SEC.DISBURSED.AMOUNT'])\n",
        "test_df['diff_cur_bal_disb_amt'] = (test_df['PRI.CURRENT.BALANCE'] + test_df['SEC.CURRENT.BALANCE']) - (test_df['PRI.DISBURSED.AMOUNT'] + test_df['SEC.DISBURSED.AMOUNT'])"
      ],
      "execution_count": 0,
      "outputs": []
    },
    {
      "cell_type": "code",
      "metadata": {
        "id": "xOXPB-l1x2Ha",
        "colab_type": "code",
        "colab": {}
      },
      "source": [
        "train_df['asset2disbursed_log'] = np.log1p(train_df['AssetCost2Disbursed'])\n",
        "test_df['asset2disbursed_log'] = np.log1p(test_df['AssetCost2Disbursed'])"
      ],
      "execution_count": 0,
      "outputs": []
    },
    {
      "cell_type": "code",
      "metadata": {
        "id": "oX1B5gesJebM",
        "colab_type": "code",
        "colab": {}
      },
      "source": [
        "# cols = ['PRI.CURRENT.BALANCE', 'PRI.SANCTIONED.AMOUNT', 'PRI.DISBURSED.AMOUNT',\n",
        "#         'SEC.CURRENT.BALANCE', 'SEC.SANCTIONED.AMOUNT', 'SEC.DISBURSED.AMOUNT', 'PRIMARY.INSTAL.AMT', 'SEC.INSTAL.AMT']"
      ],
      "execution_count": 0,
      "outputs": []
    },
    {
      "cell_type": "code",
      "metadata": {
        "id": "z3O8qIm4KUBA",
        "colab_type": "code",
        "colab": {}
      },
      "source": [
        "# for col in cols:\n",
        "#   train_df[col] = np.log1p(train_df[col])\n",
        "#   test_df[col] = np.log1p(test_df[col])"
      ],
      "execution_count": 0,
      "outputs": []
    },
    {
      "cell_type": "code",
      "metadata": {
        "id": "yse9hdUHJRHV",
        "colab_type": "code",
        "colab": {}
      },
      "source": [
        "# train_df['NO.OF_INQUIRIES'] = train_df['NO.OF_INQUIRIES'].apply(lambda x: 20 if x>20 else x)\n",
        "# test_df['NO.OF_INQUIRIES'] = test_df['NO.OF_INQUIRIES'].apply(lambda x: 20 if x>20 else x)"
      ],
      "execution_count": 0,
      "outputs": []
    },
    {
      "cell_type": "code",
      "metadata": {
        "id": "oZ5uDTg01rqb",
        "colab_type": "code",
        "colab": {}
      },
      "source": [
        "# train_df['dif_pri_san_dis'] = train_df['PRI.SANCTIONED.AMOUNT'] - train_df['PRI.DISBURSED.AMOUNT']\n",
        "# test_df['dif_pri_san_dis'] = test_df['PRI.SANCTIONED.AMOUNT'] - test_df['PRI.DISBURSED.AMOUNT']"
      ],
      "execution_count": 0,
      "outputs": []
    },
    {
      "cell_type": "code",
      "metadata": {
        "id": "ZCcyqfxUZQo6",
        "colab_type": "code",
        "colab": {}
      },
      "source": [
        "# train_df['Combined_ID'] = (train_df['manufacturer_id'].map(str)+train_df['branch_id'].map(str) + train_df['supplier_id'].map(str)).astype(int)\n",
        "# test_df['Combined_ID'] = (test_df['manufacturer_id'].map(str)+test_df['branch_id'].map(str)+ test_df['supplier_id'].map(str)).astype(int)\n",
        "\n",
        "# train_df['Combined_ID'] = np.log1p(train_df.Combined_ID)\n",
        "# test_df['Combined_ID'] = np.log1p(test_df.Combined_ID)"
      ],
      "execution_count": 0,
      "outputs": []
    },
    {
      "cell_type": "code",
      "metadata": {
        "id": "SZda5SwWu6t9",
        "colab_type": "code",
        "colab": {}
      },
      "source": [
        "# train_df['diff_newacc_deliquent'] = train_df['NEW.ACCTS.IN.LAST.SIX.MONTHS'] - train_df['DELINQUENT.ACCTS.IN.LAST.SIX.MONTHS']\n",
        "# test_df['diff_newacc_deliquent'] = test_df['NEW.ACCTS.IN.LAST.SIX.MONTHS'] - test_df['DELINQUENT.ACCTS.IN.LAST.SIX.MONTHS']"
      ],
      "execution_count": 0,
      "outputs": []
    },
    {
      "cell_type": "code",
      "metadata": {
        "id": "DKETqY_5cuXO",
        "colab_type": "code",
        "colab": {}
      },
      "source": [
        "# train_df['Disbursal'] = train_df.apply(lambda row: datetime(row['yr_Disbursal'], row['mon_Disbursal'], row['day_Disbursal']), axis=1)\n",
        "# train_df.Disbursal = pd.to_datetime(train_df.Disbursal, format='%Y-%m-%d')\n",
        "\n",
        "# test_df['Disbursal'] = test_df.apply(lambda row: datetime(row['yr_Disbursal'], row['mon_Disbursal'], row['day_Disbursal']), axis=1)\n",
        "# test_df.Disbursal = pd.to_datetime(test_df.Disbursal, format='%Y-%m-%d')\n",
        "\n",
        "# train_df['dob'] = train_df.apply(lambda row: datetime(row['yr_dob'], row['mon_dob'], row['day_dob']), axis=1)\n",
        "# train_df.Disbursal = pd.to_datetime(train_df.Disbursal, format='%Y-%m-%d')\n",
        "\n",
        "# test_df['dob'] = test_df.apply(lambda row: datetime(row['yr_dob'], row['mon_dob'], row['day_dob']), axis=1)\n",
        "# test_df.Disbursal = pd.to_datetime(test_df.Disbursal, format='%Y-%m-%d')\n",
        "\n",
        "# train_df['age_atDisbursal'] = np.floor((train_df.Disbursal - train_df.dob).dt.days / 365.25).astype(int)\n",
        "# test_df['age_atDisbursal'] = np.floor((test_df.Disbursal - test_df.dob).dt.days / 365.25).astype(int)\n",
        "\n",
        "# train_df.drop(['dob', 'Disbursal'], axis=1, inplace=True)\n",
        "# test_df.drop(['dob', 'Disbursal'], axis=1, inplace=True)"
      ],
      "execution_count": 0,
      "outputs": []
    },
    {
      "cell_type": "code",
      "metadata": {
        "id": "xgCfwA7HbsZE",
        "colab_type": "code",
        "colab": {}
      },
      "source": [
        "# train_df['age<25'] = np.where(train_df.age_atDisbursal<25, 1, 0)\n",
        "# test_df['age<25'] = np.where(test_df.age_atDisbursal<25, 1, 0)"
      ],
      "execution_count": 0,
      "outputs": []
    },
    {
      "cell_type": "code",
      "metadata": {
        "id": "WrEhKu5ob22I",
        "colab_type": "code",
        "colab": {}
      },
      "source": [
        "# train_df['age>50'] = np.where(train_df.age_atDisbursal>50, 1, 0)\n",
        "# test_df['age>50'] = np.where(test_df.age_atDisbursal>50, 1, 0)"
      ],
      "execution_count": 0,
      "outputs": []
    },
    {
      "cell_type": "code",
      "metadata": {
        "id": "z7eCe6oVfL6-",
        "colab_type": "code",
        "colab": {}
      },
      "source": [
        "# # train_df['total_account'] = train_df['PRI.NO.OF.ACCTS'] + train_df['SEC.NO.OF.ACCTS']\n",
        "# # test_df['total_account'] = test_df['PRI.NO.OF.ACCTS'] + test_df['SEC.NO.OF.ACCTS']\n",
        "\n",
        "# # train_df['total_active_acct'] = train_df['PRI.ACTIVE.ACCTS'] + train_df['SEC.ACTIVE.ACCTS']\n",
        "# # test_df['total_active_acct'] = test_df['PRI.ACTIVE.ACCTS'] + test_df['SEC.ACTIVE.ACCTS']\n",
        "\n",
        "# train_df['total_disbursed'] = train_df['PRI.DISBURSED.AMOUNT'] + train_df['SEC.DISBURSED.AMOUNT']\n",
        "# test_df['total_disbursed'] = test_df['PRI.DISBURSED.AMOUNT'] + test_df['SEC.DISBURSED.AMOUNT']\n",
        "\n",
        "# # train_df['total_install_amt'] = train_df['PRIMARY.INSTAL.AMT'] + train_df['SEC.INSTAL.AMT']\n",
        "# # test_df['total_install_amt'] = test_df['PRIMARY.INSTAL.AMT'] + test_df['SEC.INSTAL.AMT']\n",
        "\n",
        "# # train_df['total_overdue_accts'] = train_df['PRI.OVERDUE.ACCTS'] + train_df['SEC.OVERDUE.ACCTS']\n",
        "# # test_df['total_overdue_accts'] = test_df['PRI.OVERDUE.ACCTS'] + test_df['SEC.OVERDUE.ACCTS']\n",
        "\n",
        "# train_df['total_current_bal'] = train_df['PRI.CURRENT.BALANCE'] + train_df['SEC.CURRENT.BALANCE']\n",
        "# test_df['total_current_bal'] = test_df['PRI.CURRENT.BALANCE'] + test_df['SEC.CURRENT.BALANCE']"
      ],
      "execution_count": 0,
      "outputs": []
    },
    {
      "cell_type": "code",
      "metadata": {
        "id": "E6wvmgELht5z",
        "colab_type": "code",
        "colab": {}
      },
      "source": [
        "# train_df['diff_total_acc_overdue_acc'] = train_df['PRI.NO.OF.ACCTS'] + train_df['SEC.NO.OF.ACCTS'] - (train_df['PRI.OVERDUE.ACCTS'] + train_df['SEC.OVERDUE.ACCTS'])\n",
        "# test_df['diff_total_acc_overdue_acc'] = test_df['PRI.NO.OF.ACCTS'] + test_df['SEC.NO.OF.ACCTS'] - (test_df['PRI.OVERDUE.ACCTS'] + test_df['SEC.OVERDUE.ACCTS'])"
      ],
      "execution_count": 0,
      "outputs": []
    },
    {
      "cell_type": "code",
      "metadata": {
        "id": "NSVpC7MivY5M",
        "colab_type": "code",
        "colab": {}
      },
      "source": [
        "# emp_code_train = train_df['Employee_code_ID'].value_counts().to_dict()\n",
        "# emp_code_test = test_df['Employee_code_ID'].value_counts().to_dict()\n",
        "\n",
        "# train_df['emp_code_count'] = train_df['Employee_code_ID'].replace(emp_code_train)\n",
        "# test_df['emp_code_count'] = test_df['Employee_code_ID'].replace(emp_code_test)\n",
        "\n",
        "# train_df['emp_code_count'] = np.log(train_df['emp_code_count'])\n",
        "# test_df['emp_code_count'] = np.log(test_df['emp_code_count'])"
      ],
      "execution_count": 0,
      "outputs": []
    },
    {
      "cell_type": "code",
      "metadata": {
        "id": "Cc2VuEOj2KDr",
        "colab_type": "code",
        "outputId": "f9ab88ce-0d5e-4847-a89a-b1a7b816e69c",
        "colab": {
          "base_uri": "https://localhost:8080/",
          "height": 34
        }
      },
      "source": [
        "train_df.shape, test_df.shape"
      ],
      "execution_count": 0,
      "outputs": [
        {
          "output_type": "execute_result",
          "data": {
            "text/plain": [
              "((233154, 50), (112392, 50))"
            ]
          },
          "metadata": {
            "tags": []
          },
          "execution_count": 13
        }
      ]
    },
    {
      "cell_type": "code",
      "metadata": {
        "id": "lGYThQr32Md1",
        "colab_type": "code",
        "outputId": "d621f3d2-ff47-43e2-950f-264b8796e260",
        "colab": {
          "base_uri": "https://localhost:8080/",
          "height": 1618
        }
      },
      "source": [
        "pd.DataFrame(train_df.dtypes).reset_index()"
      ],
      "execution_count": 0,
      "outputs": [
        {
          "output_type": "execute_result",
          "data": {
            "text/html": [
              "<div>\n",
              "<style scoped>\n",
              "    .dataframe tbody tr th:only-of-type {\n",
              "        vertical-align: middle;\n",
              "    }\n",
              "\n",
              "    .dataframe tbody tr th {\n",
              "        vertical-align: top;\n",
              "    }\n",
              "\n",
              "    .dataframe thead th {\n",
              "        text-align: right;\n",
              "    }\n",
              "</style>\n",
              "<table border=\"1\" class=\"dataframe\">\n",
              "  <thead>\n",
              "    <tr style=\"text-align: right;\">\n",
              "      <th></th>\n",
              "      <th>index</th>\n",
              "      <th>0</th>\n",
              "    </tr>\n",
              "  </thead>\n",
              "  <tbody>\n",
              "    <tr>\n",
              "      <th>0</th>\n",
              "      <td>disbursed_amount</td>\n",
              "      <td>int64</td>\n",
              "    </tr>\n",
              "    <tr>\n",
              "      <th>1</th>\n",
              "      <td>asset_cost</td>\n",
              "      <td>int64</td>\n",
              "    </tr>\n",
              "    <tr>\n",
              "      <th>2</th>\n",
              "      <td>ltv</td>\n",
              "      <td>float64</td>\n",
              "    </tr>\n",
              "    <tr>\n",
              "      <th>3</th>\n",
              "      <td>branch_id</td>\n",
              "      <td>int64</td>\n",
              "    </tr>\n",
              "    <tr>\n",
              "      <th>4</th>\n",
              "      <td>supplier_id</td>\n",
              "      <td>int64</td>\n",
              "    </tr>\n",
              "    <tr>\n",
              "      <th>5</th>\n",
              "      <td>manufacturer_id</td>\n",
              "      <td>int64</td>\n",
              "    </tr>\n",
              "    <tr>\n",
              "      <th>6</th>\n",
              "      <td>Current_pincode_ID</td>\n",
              "      <td>int64</td>\n",
              "    </tr>\n",
              "    <tr>\n",
              "      <th>7</th>\n",
              "      <td>Employment.Type</td>\n",
              "      <td>object</td>\n",
              "    </tr>\n",
              "    <tr>\n",
              "      <th>8</th>\n",
              "      <td>State_ID</td>\n",
              "      <td>int64</td>\n",
              "    </tr>\n",
              "    <tr>\n",
              "      <th>9</th>\n",
              "      <td>Employee_code_ID</td>\n",
              "      <td>int64</td>\n",
              "    </tr>\n",
              "    <tr>\n",
              "      <th>10</th>\n",
              "      <td>Aadhar_flag</td>\n",
              "      <td>int64</td>\n",
              "    </tr>\n",
              "    <tr>\n",
              "      <th>11</th>\n",
              "      <td>PAN_flag</td>\n",
              "      <td>int64</td>\n",
              "    </tr>\n",
              "    <tr>\n",
              "      <th>12</th>\n",
              "      <td>VoterID_flag</td>\n",
              "      <td>int64</td>\n",
              "    </tr>\n",
              "    <tr>\n",
              "      <th>13</th>\n",
              "      <td>Driving_flag</td>\n",
              "      <td>int64</td>\n",
              "    </tr>\n",
              "    <tr>\n",
              "      <th>14</th>\n",
              "      <td>Passport_flag</td>\n",
              "      <td>int64</td>\n",
              "    </tr>\n",
              "    <tr>\n",
              "      <th>15</th>\n",
              "      <td>PERFORM_CNS.SCORE</td>\n",
              "      <td>int64</td>\n",
              "    </tr>\n",
              "    <tr>\n",
              "      <th>16</th>\n",
              "      <td>PERFORM_CNS.SCORE.DESCRIPTION</td>\n",
              "      <td>int64</td>\n",
              "    </tr>\n",
              "    <tr>\n",
              "      <th>17</th>\n",
              "      <td>PRI.NO.OF.ACCTS</td>\n",
              "      <td>int64</td>\n",
              "    </tr>\n",
              "    <tr>\n",
              "      <th>18</th>\n",
              "      <td>PRI.ACTIVE.ACCTS</td>\n",
              "      <td>int64</td>\n",
              "    </tr>\n",
              "    <tr>\n",
              "      <th>19</th>\n",
              "      <td>PRI.OVERDUE.ACCTS</td>\n",
              "      <td>int64</td>\n",
              "    </tr>\n",
              "    <tr>\n",
              "      <th>20</th>\n",
              "      <td>PRI.CURRENT.BALANCE</td>\n",
              "      <td>float64</td>\n",
              "    </tr>\n",
              "    <tr>\n",
              "      <th>21</th>\n",
              "      <td>PRI.SANCTIONED.AMOUNT</td>\n",
              "      <td>float64</td>\n",
              "    </tr>\n",
              "    <tr>\n",
              "      <th>22</th>\n",
              "      <td>PRI.DISBURSED.AMOUNT</td>\n",
              "      <td>float64</td>\n",
              "    </tr>\n",
              "    <tr>\n",
              "      <th>23</th>\n",
              "      <td>SEC.NO.OF.ACCTS</td>\n",
              "      <td>int64</td>\n",
              "    </tr>\n",
              "    <tr>\n",
              "      <th>24</th>\n",
              "      <td>SEC.ACTIVE.ACCTS</td>\n",
              "      <td>int64</td>\n",
              "    </tr>\n",
              "    <tr>\n",
              "      <th>25</th>\n",
              "      <td>SEC.OVERDUE.ACCTS</td>\n",
              "      <td>int64</td>\n",
              "    </tr>\n",
              "    <tr>\n",
              "      <th>26</th>\n",
              "      <td>SEC.CURRENT.BALANCE</td>\n",
              "      <td>float64</td>\n",
              "    </tr>\n",
              "    <tr>\n",
              "      <th>27</th>\n",
              "      <td>SEC.SANCTIONED.AMOUNT</td>\n",
              "      <td>float64</td>\n",
              "    </tr>\n",
              "    <tr>\n",
              "      <th>28</th>\n",
              "      <td>SEC.DISBURSED.AMOUNT</td>\n",
              "      <td>float64</td>\n",
              "    </tr>\n",
              "    <tr>\n",
              "      <th>29</th>\n",
              "      <td>PRIMARY.INSTAL.AMT</td>\n",
              "      <td>float64</td>\n",
              "    </tr>\n",
              "    <tr>\n",
              "      <th>30</th>\n",
              "      <td>SEC.INSTAL.AMT</td>\n",
              "      <td>float64</td>\n",
              "    </tr>\n",
              "    <tr>\n",
              "      <th>31</th>\n",
              "      <td>NEW.ACCTS.IN.LAST.SIX.MONTHS</td>\n",
              "      <td>int64</td>\n",
              "    </tr>\n",
              "    <tr>\n",
              "      <th>32</th>\n",
              "      <td>DELINQUENT.ACCTS.IN.LAST.SIX.MONTHS</td>\n",
              "      <td>int64</td>\n",
              "    </tr>\n",
              "    <tr>\n",
              "      <th>33</th>\n",
              "      <td>NO.OF_INQUIRIES</td>\n",
              "      <td>int64</td>\n",
              "    </tr>\n",
              "    <tr>\n",
              "      <th>34</th>\n",
              "      <td>InMonths_AVERAGE.ACCT.AGE</td>\n",
              "      <td>int64</td>\n",
              "    </tr>\n",
              "    <tr>\n",
              "      <th>35</th>\n",
              "      <td>InMonths_CREDIT.HISTORY.LENGTH</td>\n",
              "      <td>int64</td>\n",
              "    </tr>\n",
              "    <tr>\n",
              "      <th>36</th>\n",
              "      <td>day_dob</td>\n",
              "      <td>int64</td>\n",
              "    </tr>\n",
              "    <tr>\n",
              "      <th>37</th>\n",
              "      <td>mon_dob</td>\n",
              "      <td>int64</td>\n",
              "    </tr>\n",
              "    <tr>\n",
              "      <th>38</th>\n",
              "      <td>yr_dob</td>\n",
              "      <td>int64</td>\n",
              "    </tr>\n",
              "    <tr>\n",
              "      <th>39</th>\n",
              "      <td>day_Disbursal</td>\n",
              "      <td>int64</td>\n",
              "    </tr>\n",
              "    <tr>\n",
              "      <th>40</th>\n",
              "      <td>mon_Disbursal</td>\n",
              "      <td>int64</td>\n",
              "    </tr>\n",
              "    <tr>\n",
              "      <th>41</th>\n",
              "      <td>yr_Disbursal</td>\n",
              "      <td>int64</td>\n",
              "    </tr>\n",
              "    <tr>\n",
              "      <th>42</th>\n",
              "      <td>Score_des_no_his_not_score</td>\n",
              "      <td>int64</td>\n",
              "    </tr>\n",
              "    <tr>\n",
              "      <th>43</th>\n",
              "      <td>Score_des_low_risk</td>\n",
              "      <td>int64</td>\n",
              "    </tr>\n",
              "    <tr>\n",
              "      <th>44</th>\n",
              "      <td>Score_des_high_risk</td>\n",
              "      <td>int64</td>\n",
              "    </tr>\n",
              "    <tr>\n",
              "      <th>45</th>\n",
              "      <td>AssetCost2Disbursed</td>\n",
              "      <td>float64</td>\n",
              "    </tr>\n",
              "    <tr>\n",
              "      <th>46</th>\n",
              "      <td>dif_pri_san_dis</td>\n",
              "      <td>int64</td>\n",
              "    </tr>\n",
              "    <tr>\n",
              "      <th>47</th>\n",
              "      <td>ltv_log</td>\n",
              "      <td>float64</td>\n",
              "    </tr>\n",
              "    <tr>\n",
              "      <th>48</th>\n",
              "      <td>diff_cur_bal_disb_amt</td>\n",
              "      <td>int64</td>\n",
              "    </tr>\n",
              "    <tr>\n",
              "      <th>49</th>\n",
              "      <td>asset2disbursed_log</td>\n",
              "      <td>float64</td>\n",
              "    </tr>\n",
              "  </tbody>\n",
              "</table>\n",
              "</div>"
            ],
            "text/plain": [
              "                                  index        0\n",
              "0                      disbursed_amount    int64\n",
              "1                            asset_cost    int64\n",
              "2                                   ltv  float64\n",
              "3                             branch_id    int64\n",
              "4                           supplier_id    int64\n",
              "5                       manufacturer_id    int64\n",
              "6                    Current_pincode_ID    int64\n",
              "7                       Employment.Type   object\n",
              "8                              State_ID    int64\n",
              "9                      Employee_code_ID    int64\n",
              "10                          Aadhar_flag    int64\n",
              "11                             PAN_flag    int64\n",
              "12                         VoterID_flag    int64\n",
              "13                         Driving_flag    int64\n",
              "14                        Passport_flag    int64\n",
              "15                    PERFORM_CNS.SCORE    int64\n",
              "16        PERFORM_CNS.SCORE.DESCRIPTION    int64\n",
              "17                      PRI.NO.OF.ACCTS    int64\n",
              "18                     PRI.ACTIVE.ACCTS    int64\n",
              "19                    PRI.OVERDUE.ACCTS    int64\n",
              "20                  PRI.CURRENT.BALANCE  float64\n",
              "21                PRI.SANCTIONED.AMOUNT  float64\n",
              "22                 PRI.DISBURSED.AMOUNT  float64\n",
              "23                      SEC.NO.OF.ACCTS    int64\n",
              "24                     SEC.ACTIVE.ACCTS    int64\n",
              "25                    SEC.OVERDUE.ACCTS    int64\n",
              "26                  SEC.CURRENT.BALANCE  float64\n",
              "27                SEC.SANCTIONED.AMOUNT  float64\n",
              "28                 SEC.DISBURSED.AMOUNT  float64\n",
              "29                   PRIMARY.INSTAL.AMT  float64\n",
              "30                       SEC.INSTAL.AMT  float64\n",
              "31         NEW.ACCTS.IN.LAST.SIX.MONTHS    int64\n",
              "32  DELINQUENT.ACCTS.IN.LAST.SIX.MONTHS    int64\n",
              "33                      NO.OF_INQUIRIES    int64\n",
              "34            InMonths_AVERAGE.ACCT.AGE    int64\n",
              "35       InMonths_CREDIT.HISTORY.LENGTH    int64\n",
              "36                              day_dob    int64\n",
              "37                              mon_dob    int64\n",
              "38                               yr_dob    int64\n",
              "39                        day_Disbursal    int64\n",
              "40                        mon_Disbursal    int64\n",
              "41                         yr_Disbursal    int64\n",
              "42           Score_des_no_his_not_score    int64\n",
              "43                   Score_des_low_risk    int64\n",
              "44                  Score_des_high_risk    int64\n",
              "45                  AssetCost2Disbursed  float64\n",
              "46                      dif_pri_san_dis    int64\n",
              "47                              ltv_log  float64\n",
              "48                diff_cur_bal_disb_amt    int64\n",
              "49                  asset2disbursed_log  float64"
            ]
          },
          "metadata": {
            "tags": []
          },
          "execution_count": 14
        }
      ]
    },
    {
      "cell_type": "code",
      "metadata": {
        "id": "yIUOf3v12U1v",
        "colab_type": "code",
        "colab": {}
      },
      "source": [
        "cat_cols = [3, 4, 5, 6, 7, 8, 9, 10, 11, 12, 13, 14, 16, 42, 43, 44]"
      ],
      "execution_count": 0,
      "outputs": []
    },
    {
      "cell_type": "code",
      "metadata": {
        "id": "5FQZVMv54eBb",
        "colab_type": "code",
        "colab": {}
      },
      "source": [
        "X_train, X_val, y_train, y_val = train_test_split(train_df, y, test_size=0.2, random_state=42,\n",
        "                                                  stratify=y)"
      ],
      "execution_count": 0,
      "outputs": []
    },
    {
      "cell_type": "code",
      "metadata": {
        "id": "u_QPjNpx1uaH",
        "colab_type": "code",
        "outputId": "784208e4-851d-4936-8cfd-3f40469714a4",
        "colab": {
          "base_uri": "https://localhost:8080/",
          "height": 469
        }
      },
      "source": [
        "model = CatBoostClassifier(loss_function='Logloss', eval_metric='AUC', use_best_model=True,\n",
        "                           task_type='GPU', cat_features=cat_cols)\n",
        "\n",
        "model.fit(X_train, y_train, eval_set=(X_val, y_val), cat_features=cat_cols, verbose_eval=50)"
      ],
      "execution_count": 0,
      "outputs": [
        {
          "output_type": "stream",
          "text": [
            "Learning rate set to 0.135107\n",
            "0:\tlearn: 0.6216486\ttest: 0.6276269\tbest: 0.6276269 (0)\ttotal: 65ms\tremaining: 1m 4s\n",
            "50:\tlearn: 0.6778487\ttest: 0.6718933\tbest: 0.6718933 (50)\ttotal: 2.15s\tremaining: 40s\n",
            "100:\tlearn: 0.6867274\ttest: 0.6756375\tbest: 0.6756375 (100)\ttotal: 4.06s\tremaining: 36.2s\n",
            "150:\tlearn: 0.6929192\ttest: 0.6765684\tbest: 0.6765684 (150)\ttotal: 6s\tremaining: 33.8s\n",
            "200:\tlearn: 0.6977981\ttest: 0.6770542\tbest: 0.6770542 (200)\ttotal: 7.92s\tremaining: 31.5s\n",
            "250:\tlearn: 0.7021741\ttest: 0.6774237\tbest: 0.6774927 (242)\ttotal: 9.88s\tremaining: 29.5s\n",
            "300:\tlearn: 0.7069107\ttest: 0.6773170\tbest: 0.6774927 (242)\ttotal: 12s\tremaining: 27.8s\n",
            "350:\tlearn: 0.7110757\ttest: 0.6775612\tbest: 0.6775881 (346)\ttotal: 14.1s\tremaining: 26.1s\n",
            "400:\tlearn: 0.7152334\ttest: 0.6776438\tbest: 0.6778170 (381)\ttotal: 16.2s\tremaining: 24.2s\n",
            "450:\tlearn: 0.7190410\ttest: 0.6778316\tbest: 0.6778609 (430)\ttotal: 18.4s\tremaining: 22.4s\n",
            "500:\tlearn: 0.7230568\ttest: 0.6780870\tbest: 0.6781009 (493)\ttotal: 20.5s\tremaining: 20.4s\n",
            "550:\tlearn: 0.7265745\ttest: 0.6780629\tbest: 0.6781531 (504)\ttotal: 22.6s\tremaining: 18.4s\n",
            "600:\tlearn: 0.7299333\ttest: 0.6779825\tbest: 0.6781531 (504)\ttotal: 24.8s\tremaining: 16.4s\n",
            "650:\tlearn: 0.7333904\ttest: 0.6780742\tbest: 0.6781531 (504)\ttotal: 26.9s\tremaining: 14.4s\n",
            "700:\tlearn: 0.7370003\ttest: 0.6777394\tbest: 0.6781531 (504)\ttotal: 29.1s\tremaining: 12.4s\n",
            "750:\tlearn: 0.7399945\ttest: 0.6779011\tbest: 0.6781531 (504)\ttotal: 31.2s\tremaining: 10.3s\n",
            "800:\tlearn: 0.7433243\ttest: 0.6777816\tbest: 0.6781531 (504)\ttotal: 33.4s\tremaining: 8.29s\n",
            "850:\tlearn: 0.7463320\ttest: 0.6778331\tbest: 0.6781531 (504)\ttotal: 35.5s\tremaining: 6.22s\n",
            "900:\tlearn: 0.7494667\ttest: 0.6777324\tbest: 0.6781531 (504)\ttotal: 37.7s\tremaining: 4.14s\n",
            "950:\tlearn: 0.7525041\ttest: 0.6775798\tbest: 0.6781531 (504)\ttotal: 39.8s\tremaining: 2.05s\n",
            "999:\tlearn: 0.7554733\ttest: 0.6776095\tbest: 0.6781531 (504)\ttotal: 42s\tremaining: 0us\n",
            "bestTest = 0.6781530678\n",
            "bestIteration = 504\n",
            "Shrink model to first 505 iterations.\n"
          ],
          "name": "stdout"
        },
        {
          "output_type": "execute_result",
          "data": {
            "text/plain": [
              "<catboost.core.CatBoostClassifier at 0x7f5e83dcd128>"
            ]
          },
          "metadata": {
            "tags": []
          },
          "execution_count": 17
        }
      ]
    },
    {
      "cell_type": "code",
      "metadata": {
        "id": "x5OdWM9fw2oN",
        "colab_type": "code",
        "outputId": "fae37a86-4ffa-4bd4-a8ed-bd8b87c0a0db",
        "colab": {
          "base_uri": "https://localhost:8080/",
          "height": 903
        }
      },
      "source": [
        "feature_imp = pd.DataFrame(model.feature_importances_, index=train_df.columns)\n",
        "feature_imp[0].sort_values(ascending=False)"
      ],
      "execution_count": 0,
      "outputs": [
        {
          "output_type": "execute_result",
          "data": {
            "text/plain": [
              "Employee_code_ID                       6.542621\n",
              "branch_id                              5.672917\n",
              "supplier_id                            5.670748\n",
              "disbursed_amount                       4.814768\n",
              "PERFORM_CNS.SCORE.DESCRIPTION          4.561780\n",
              "Current_pincode_ID                     4.356893\n",
              "ltv_log                                4.045778\n",
              "day_Disbursal                          4.040173\n",
              "ltv                                    3.884354\n",
              "yr_dob                                 3.507759\n",
              "mon_Disbursal                          3.250201\n",
              "diff_cur_bal_disb_amt                  3.212142\n",
              "dif_pri_san_dis                        2.850155\n",
              "State_ID                               2.766355\n",
              "manufacturer_id                        2.723345\n",
              "PRIMARY.INSTAL.AMT                     2.542143\n",
              "NO.OF_INQUIRIES                        2.357049\n",
              "InMonths_CREDIT.HISTORY.LENGTH         2.342987\n",
              "PRI.NO.OF.ACCTS                        2.295464\n",
              "asset_cost                             2.278757\n",
              "Score_des_high_risk                    2.243437\n",
              "PRI.CURRENT.BALANCE                    2.152879\n",
              "day_dob                                2.111606\n",
              "asset2disbursed_log                    2.065457\n",
              "AssetCost2Disbursed                    1.967090\n",
              "DELINQUENT.ACCTS.IN.LAST.SIX.MONTHS    1.906482\n",
              "PRI.OVERDUE.ACCTS                      1.789945\n",
              "Employment.Type                        1.702472\n",
              "PERFORM_CNS.SCORE                      1.639148\n",
              "InMonths_AVERAGE.ACCT.AGE              1.236615\n",
              "mon_dob                                1.215538\n",
              "PRI.DISBURSED.AMOUNT                   1.107609\n",
              "PRI.SANCTIONED.AMOUNT                  0.941595\n",
              "Score_des_low_risk                     0.748207\n",
              "NEW.ACCTS.IN.LAST.SIX.MONTHS           0.706971\n",
              "PRI.ACTIVE.ACCTS                       0.673250\n",
              "Aadhar_flag                            0.527854\n",
              "VoterID_flag                           0.334203\n",
              "PAN_flag                               0.262684\n",
              "SEC.INSTAL.AMT                         0.233753\n",
              "SEC.OVERDUE.ACCTS                      0.152151\n",
              "SEC.NO.OF.ACCTS                        0.125199\n",
              "SEC.ACTIVE.ACCTS                       0.112562\n",
              "SEC.DISBURSED.AMOUNT                   0.104489\n",
              "SEC.CURRENT.BALANCE                    0.075153\n",
              "Score_des_no_his_not_score             0.058239\n",
              "SEC.SANCTIONED.AMOUNT                  0.045974\n",
              "Driving_flag                           0.043052\n",
              "Passport_flag                          0.000000\n",
              "yr_Disbursal                           0.000000\n",
              "Name: 0, dtype: float64"
            ]
          },
          "metadata": {
            "tags": []
          },
          "execution_count": 22
        }
      ]
    },
    {
      "cell_type": "code",
      "metadata": {
        "id": "zPqAOiPc5S8X",
        "colab_type": "code",
        "colab": {}
      },
      "source": [
        "best_params = {'bagging_temperature': 0.41010395885331385,\n",
        " 'border_count': 186,\n",
        " 'depth': 9,\n",
        " 'iterations': 500,\n",
        " 'l2_leaf_reg': 21,\n",
        " 'learning_rate': 0.0673344419215237,\n",
        " 'random_strength': 3.230824361824754e-06,\n",
        " 'scale_pos_weight': 0.7421091918485163}"
      ],
      "execution_count": 0,
      "outputs": []
    },
    {
      "cell_type": "markdown",
      "metadata": {
        "id": "wuQyGCT35Xhs",
        "colab_type": "text"
      },
      "source": [
        "## Generating OOF and submission"
      ]
    },
    {
      "cell_type": "code",
      "metadata": {
        "id": "VTK3j2Bc5dG0",
        "colab_type": "code",
        "outputId": "9a4813d9-561a-43be-afb8-82440c3a3caa",
        "colab": {
          "base_uri": "https://localhost:8080/",
          "height": 1372
        }
      },
      "source": [
        "%%time\n",
        "num_folds = 5\n",
        "predictions = pd.DataFrame()\n",
        "print('Training Model:')\n",
        "val_list = []\n",
        "clf = CatBoostClassifier(loss_function='Logloss', eval_metric='AUC', **best_params, task_type='GPU', cat_features=cat_cols)\n",
        "skf = StratifiedKFold(n_splits=num_folds, shuffle=True, random_state=42)\n",
        "oof = np.zeros(len(train_df))\n",
        "train_score = []\n",
        "valid_score = []\n",
        "\n",
        "for fold_, (trn_idx, val_idx) in enumerate(skf.split(train_df.values, y.values)):\n",
        "    gc.collect()\n",
        "    print(\"Fold idx:{}\".format(fold_ + 1))\n",
        "    \n",
        "    X_train, y_train = train_df.iloc[trn_idx], y[trn_idx]\n",
        "    X_valid, y_valid = train_df.iloc[val_idx], y[val_idx]\n",
        "\n",
        "    clf.fit(X=X_train, y=y_train, eval_set=[(X_valid, y_valid)], verbose_eval=50)  \n",
        "    \n",
        "    oof[val_idx] = clf.predict_proba(train_df.iloc[val_idx])[:,1]\n",
        "    \n",
        "    train_score.append(roc_auc_score(y_train, clf.predict_proba(train_df.iloc[trn_idx])[:,1]))\n",
        "    valid_score.append(roc_auc_score(y_valid, oof[val_idx]))\n",
        "    \n",
        "    predictions[f'Folds_{fold_+1}'] = clf.predict_proba(test_df)[:,1]  \n",
        "\n",
        "del clf  \n",
        "val_list.append(oof)"
      ],
      "execution_count": 0,
      "outputs": [
        {
          "output_type": "stream",
          "text": [
            "Training Model:\n",
            "Fold idx:1\n",
            "0:\tlearn: 0.6352836\ttest: 0.6401085\tbest: 0.6401085 (0)\ttotal: 160ms\tremaining: 1m 20s\n",
            "50:\tlearn: 0.6889104\ttest: 0.6774121\tbest: 0.6774121 (50)\ttotal: 4.23s\tremaining: 37.2s\n",
            "100:\tlearn: 0.7027241\ttest: 0.6809873\tbest: 0.6809873 (100)\ttotal: 8.32s\tremaining: 32.9s\n",
            "150:\tlearn: 0.7122634\ttest: 0.6824895\tbest: 0.6825072 (149)\ttotal: 12.3s\tremaining: 28.5s\n",
            "200:\tlearn: 0.7201914\ttest: 0.6833728\tbest: 0.6833728 (200)\ttotal: 16.3s\tremaining: 24.2s\n",
            "250:\tlearn: 0.7275209\ttest: 0.6834615\tbest: 0.6834621 (248)\ttotal: 20.1s\tremaining: 20s\n",
            "300:\tlearn: 0.7330846\ttest: 0.6839073\tbest: 0.6839154 (297)\ttotal: 23.9s\tremaining: 15.8s\n",
            "350:\tlearn: 0.7392866\ttest: 0.6841117\tbest: 0.6841117 (350)\ttotal: 27.8s\tremaining: 11.8s\n",
            "400:\tlearn: 0.7453569\ttest: 0.6841511\tbest: 0.6842352 (369)\ttotal: 31.6s\tremaining: 7.8s\n",
            "450:\tlearn: 0.7511865\ttest: 0.6840819\tbest: 0.6842352 (369)\ttotal: 35.4s\tremaining: 3.84s\n",
            "499:\tlearn: 0.7566403\ttest: 0.6839980\tbest: 0.6842352 (369)\ttotal: 39.3s\tremaining: 0us\n",
            "bestTest = 0.6842352152\n",
            "bestIteration = 369\n",
            "Shrink model to first 370 iterations.\n",
            "Fold idx:2\n",
            "0:\tlearn: 0.6415495\ttest: 0.6353717\tbest: 0.6353717 (0)\ttotal: 150ms\tremaining: 1m 14s\n",
            "50:\tlearn: 0.6906448\ttest: 0.6700712\tbest: 0.6700712 (50)\ttotal: 4.46s\tremaining: 39.3s\n",
            "100:\tlearn: 0.7042179\ttest: 0.6740593\tbest: 0.6740593 (100)\ttotal: 8.69s\tremaining: 34.3s\n",
            "150:\tlearn: 0.7144120\ttest: 0.6754369\tbest: 0.6754369 (150)\ttotal: 12.8s\tremaining: 29.6s\n",
            "200:\tlearn: 0.7221521\ttest: 0.6760444\tbest: 0.6760444 (200)\ttotal: 16.8s\tremaining: 25s\n",
            "250:\tlearn: 0.7289697\ttest: 0.6764903\tbest: 0.6765558 (243)\ttotal: 20.8s\tremaining: 20.7s\n",
            "300:\tlearn: 0.7352844\ttest: 0.6768326\tbest: 0.6768326 (300)\ttotal: 24.8s\tremaining: 16.4s\n",
            "350:\tlearn: 0.7419581\ttest: 0.6770636\tbest: 0.6770817 (347)\ttotal: 28.9s\tremaining: 12.3s\n",
            "400:\tlearn: 0.7482338\ttest: 0.6770734\tbest: 0.6770844 (387)\ttotal: 32.9s\tremaining: 8.13s\n",
            "450:\tlearn: 0.7547622\ttest: 0.6774952\tbest: 0.6774952 (450)\ttotal: 37s\tremaining: 4.02s\n",
            "499:\tlearn: 0.7606636\ttest: 0.6772288\tbest: 0.6774952 (450)\ttotal: 40.9s\tremaining: 0us\n",
            "bestTest = 0.6774952412\n",
            "bestIteration = 450\n",
            "Shrink model to first 451 iterations.\n",
            "Fold idx:3\n",
            "0:\tlearn: 0.6384954\ttest: 0.6359329\tbest: 0.6359329 (0)\ttotal: 147ms\tremaining: 1m 13s\n",
            "50:\tlearn: 0.6907979\ttest: 0.6716667\tbest: 0.6716667 (50)\ttotal: 4.34s\tremaining: 38.3s\n",
            "100:\tlearn: 0.7045725\ttest: 0.6751966\tbest: 0.6751966 (100)\ttotal: 8.45s\tremaining: 33.4s\n",
            "150:\tlearn: 0.7145992\ttest: 0.6768952\tbest: 0.6768952 (150)\ttotal: 12.4s\tremaining: 28.6s\n",
            "200:\tlearn: 0.7239819\ttest: 0.6779849\tbest: 0.6779849 (200)\ttotal: 16.4s\tremaining: 24.4s\n",
            "250:\tlearn: 0.7316513\ttest: 0.6786332\tbest: 0.6786507 (249)\ttotal: 20.3s\tremaining: 20.1s\n",
            "300:\tlearn: 0.7384266\ttest: 0.6789366\tbest: 0.6789608 (298)\ttotal: 24.3s\tremaining: 16.1s\n",
            "350:\tlearn: 0.7459214\ttest: 0.6790919\tbest: 0.6792419 (319)\ttotal: 28.3s\tremaining: 12s\n",
            "400:\tlearn: 0.7528995\ttest: 0.6792027\tbest: 0.6792620 (390)\ttotal: 32.3s\tremaining: 7.98s\n",
            "450:\tlearn: 0.7590992\ttest: 0.6792830\tbest: 0.6792830 (450)\ttotal: 36.2s\tremaining: 3.94s\n",
            "499:\tlearn: 0.7641177\ttest: 0.6793384\tbest: 0.6793929 (465)\ttotal: 40s\tremaining: 0us\n",
            "bestTest = 0.6793929338\n",
            "bestIteration = 465\n",
            "Shrink model to first 466 iterations.\n",
            "Fold idx:4\n",
            "0:\tlearn: 0.6375096\ttest: 0.6405000\tbest: 0.6405000 (0)\ttotal: 141ms\tremaining: 1m 10s\n",
            "50:\tlearn: 0.6861048\ttest: 0.6816332\tbest: 0.6816332 (50)\ttotal: 4.16s\tremaining: 36.6s\n",
            "100:\tlearn: 0.6998748\ttest: 0.6847789\tbest: 0.6848061 (98)\ttotal: 8.01s\tremaining: 31.6s\n",
            "150:\tlearn: 0.7107155\ttest: 0.6867291\tbest: 0.6867291 (150)\ttotal: 11.9s\tremaining: 27.5s\n",
            "200:\tlearn: 0.7205559\ttest: 0.6874038\tbest: 0.6874038 (200)\ttotal: 15.7s\tremaining: 23.3s\n",
            "250:\tlearn: 0.7288610\ttest: 0.6876909\tbest: 0.6877447 (246)\ttotal: 19.5s\tremaining: 19.3s\n",
            "300:\tlearn: 0.7356595\ttest: 0.6879525\tbest: 0.6879664 (279)\ttotal: 23.3s\tremaining: 15.4s\n",
            "350:\tlearn: 0.7414083\ttest: 0.6882009\tbest: 0.6882205 (348)\ttotal: 27.2s\tremaining: 11.5s\n",
            "400:\tlearn: 0.7482414\ttest: 0.6881998\tbest: 0.6883983 (379)\ttotal: 31.1s\tremaining: 7.67s\n",
            "450:\tlearn: 0.7548798\ttest: 0.6882195\tbest: 0.6883983 (379)\ttotal: 35.2s\tremaining: 3.82s\n",
            "499:\tlearn: 0.7600401\ttest: 0.6881613\tbest: 0.6883983 (379)\ttotal: 39.1s\tremaining: 0us\n",
            "bestTest = 0.6883982718\n",
            "bestIteration = 379\n",
            "Shrink model to first 380 iterations.\n",
            "Fold idx:5\n",
            "0:\tlearn: 0.6382762\ttest: 0.6375363\tbest: 0.6375363 (0)\ttotal: 142ms\tremaining: 1m 10s\n",
            "50:\tlearn: 0.6880393\ttest: 0.6753723\tbest: 0.6753723 (50)\ttotal: 4.14s\tremaining: 36.5s\n",
            "100:\tlearn: 0.7016113\ttest: 0.6787274\tbest: 0.6787274 (100)\ttotal: 8.03s\tremaining: 31.7s\n",
            "150:\tlearn: 0.7113296\ttest: 0.6801849\tbest: 0.6801849 (150)\ttotal: 11.9s\tremaining: 27.4s\n",
            "200:\tlearn: 0.7185594\ttest: 0.6807222\tbest: 0.6807587 (193)\ttotal: 15.7s\tremaining: 23.3s\n",
            "250:\tlearn: 0.7256552\ttest: 0.6811698\tbest: 0.6812369 (249)\ttotal: 19.5s\tremaining: 19.3s\n",
            "300:\tlearn: 0.7314282\ttest: 0.6811476\tbest: 0.6813172 (280)\ttotal: 23.3s\tremaining: 15.4s\n",
            "350:\tlearn: 0.7379864\ttest: 0.6813291\tbest: 0.6813570 (342)\ttotal: 27.2s\tremaining: 11.5s\n",
            "400:\tlearn: 0.7441303\ttest: 0.6816024\tbest: 0.6816438 (398)\ttotal: 31.1s\tremaining: 7.67s\n",
            "450:\tlearn: 0.7504746\ttest: 0.6816604\tbest: 0.6816755 (443)\ttotal: 34.9s\tremaining: 3.79s\n",
            "499:\tlearn: 0.7562112\ttest: 0.6815872\tbest: 0.6817543 (470)\ttotal: 38.7s\tremaining: 0us\n",
            "bestTest = 0.6817542613\n",
            "bestIteration = 470\n",
            "Shrink model to first 471 iterations.\n",
            "CPU times: user 5min 5s, sys: 1min 25s, total: 6min 31s\n",
            "Wall time: 4min 50s\n"
          ],
          "name": "stdout"
        }
      ]
    },
    {
      "cell_type": "code",
      "metadata": {
        "id": "9HvILFVX_4KK",
        "colab_type": "code",
        "outputId": "973fda22-6be1-4905-a7e1-024d5f3fd0c2",
        "colab": {
          "base_uri": "https://localhost:8080/",
          "height": 34
        }
      },
      "source": [
        "roc = roc_auc_score(y, oof)\n",
        "roc"
      ],
      "execution_count": 0,
      "outputs": [
        {
          "output_type": "execute_result",
          "data": {
            "text/plain": [
              "0.6822050695597501"
            ]
          },
          "metadata": {
            "tags": []
          },
          "execution_count": 25
        }
      ]
    },
    {
      "cell_type": "code",
      "metadata": {
        "id": "E6l8hJXDYq04",
        "colab_type": "code",
        "outputId": "7e8f9f25-5e4b-485f-a1c9-075ff69b7d97",
        "colab": {
          "base_uri": "https://localhost:8080/",
          "height": 34
        }
      },
      "source": [
        "train_roc = sum(train_score)/len(train_score)\n",
        "valid_roc = sum(valid_score)/len(valid_score)\n",
        "train_roc, valid_roc"
      ],
      "execution_count": 0,
      "outputs": [
        {
          "output_type": "execute_result",
          "data": {
            "text/plain": [
              "(0.7564691167997767, 0.6822551737483227)"
            ]
          },
          "metadata": {
            "tags": []
          },
          "execution_count": 26
        }
      ]
    },
    {
      "cell_type": "code",
      "metadata": {
        "id": "JwnGEA-JAUFZ",
        "colab_type": "code",
        "colab": {}
      },
      "source": [
        "name = 'Salil'\n",
        "VERSION = 5\n",
        "oof_train = pd.DataFrame()\n",
        "oof_train[f'oof_cb_{name}_{VERSION}'] = oof\n",
        "oof_test = predictions"
      ],
      "execution_count": 0,
      "outputs": []
    },
    {
      "cell_type": "code",
      "metadata": {
        "id": "HxkYLpZdEWZz",
        "colab_type": "code",
        "colab": {}
      },
      "source": [
        "oof_train.to_csv(f'train_cb_roc_{roc}_v{VERSION}_{name}.csv',index=False)\n",
        "oof_test.to_csv(f'test_cb_roc_{roc}_v{VERSION}_{name}.csv', index=False)"
      ],
      "execution_count": 0,
      "outputs": []
    },
    {
      "cell_type": "code",
      "metadata": {
        "id": "iy-rXS0YFWKt",
        "colab_type": "code",
        "colab": {}
      },
      "source": [
        "pred = np.mean(predictions, axis=1)"
      ],
      "execution_count": 0,
      "outputs": []
    },
    {
      "cell_type": "code",
      "metadata": {
        "id": "UzSVqOMQF2Sa",
        "colab_type": "code",
        "colab": {}
      },
      "source": [
        "write_submission(pred, f'mean_cb_{roc*100}.csv')"
      ],
      "execution_count": 0,
      "outputs": []
    },
    {
      "cell_type": "code",
      "metadata": {
        "id": "7vZupGBdEkYG",
        "colab_type": "code",
        "colab": {}
      },
      "source": [
        ""
      ],
      "execution_count": 0,
      "outputs": []
    }
  ]
}